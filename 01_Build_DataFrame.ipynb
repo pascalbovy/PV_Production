{
 "cells": [
  {
   "cell_type": "code",
   "execution_count": 1,
   "metadata": {},
   "outputs": [],
   "source": [
    "#Load necessary packages\n",
    "import pandas as pd\n",
    "import numpy as np\n",
    "import matplotlib.pyplot as plt\n",
    "import seaborn as sns"
   ]
  },
  {
   "cell_type": "markdown",
   "metadata": {},
   "source": [
    "Production Data Cleaning"
   ]
  },
  {
   "cell_type": "code",
   "execution_count": 2,
   "metadata": {},
   "outputs": [],
   "source": [
    "data1=pd.read_csv('ProdLaMonta.csv', parse_dates=True, dayfirst=True, index_col='Date') # pandas could not read â and è"
   ]
  },
  {
   "cell_type": "code",
   "execution_count": 3,
   "metadata": {},
   "outputs": [
    {
     "data": {
      "text/html": [
       "<div>\n",
       "<style scoped>\n",
       "    .dataframe tbody tr th:only-of-type {\n",
       "        vertical-align: middle;\n",
       "    }\n",
       "\n",
       "    .dataframe tbody tr th {\n",
       "        vertical-align: top;\n",
       "    }\n",
       "\n",
       "    .dataframe thead th {\n",
       "        text-align: right;\n",
       "    }\n",
       "</style>\n",
       "<table border=\"1\" class=\"dataframe\">\n",
       "  <thead>\n",
       "    <tr style=\"text-align: right;\">\n",
       "      <th></th>\n",
       "      <th>ProdCum</th>\n",
       "      <th>ProdDaily</th>\n",
       "      <th>Unnamed: 3</th>\n",
       "      <th>Unnamed: 4</th>\n",
       "    </tr>\n",
       "    <tr>\n",
       "      <th>Date</th>\n",
       "      <th></th>\n",
       "      <th></th>\n",
       "      <th></th>\n",
       "      <th></th>\n",
       "    </tr>\n",
       "  </thead>\n",
       "  <tbody>\n",
       "    <tr>\n",
       "      <th>2018-02-02</th>\n",
       "      <td>1227576</td>\n",
       "      <td>NaN</td>\n",
       "      <td>NaN</td>\n",
       "      <td>02/02/2018</td>\n",
       "    </tr>\n",
       "    <tr>\n",
       "      <th>2018-02-03</th>\n",
       "      <td>1254823</td>\n",
       "      <td>27247.0</td>\n",
       "      <td>NaN</td>\n",
       "      <td>03/02/2018</td>\n",
       "    </tr>\n",
       "    <tr>\n",
       "      <th>2018-02-04</th>\n",
       "      <td>1275001</td>\n",
       "      <td>20178.0</td>\n",
       "      <td>NaN</td>\n",
       "      <td>04/02/2018</td>\n",
       "    </tr>\n",
       "    <tr>\n",
       "      <th>2018-02-05</th>\n",
       "      <td>1291910</td>\n",
       "      <td>16909.0</td>\n",
       "      <td>NaN</td>\n",
       "      <td>05/02/2018</td>\n",
       "    </tr>\n",
       "  </tbody>\n",
       "</table>\n",
       "</div>"
      ],
      "text/plain": [
       "            ProdCum  ProdDaily  Unnamed: 3  Unnamed: 4\n",
       "Date                                                  \n",
       "2018-02-02  1227576        NaN         NaN  02/02/2018\n",
       "2018-02-03  1254823    27247.0         NaN  03/02/2018\n",
       "2018-02-04  1275001    20178.0         NaN  04/02/2018\n",
       "2018-02-05  1291910    16909.0         NaN  05/02/2018"
      ]
     },
     "execution_count": 3,
     "metadata": {},
     "output_type": "execute_result"
    }
   ],
   "source": [
    "data1.head(4)"
   ]
  },
  {
   "cell_type": "code",
   "execution_count": 4,
   "metadata": {},
   "outputs": [],
   "source": [
    "data2=data1.drop(['Unnamed: 3', 'Unnamed: 4'], axis=1)"
   ]
  },
  {
   "cell_type": "code",
   "execution_count": 5,
   "metadata": {},
   "outputs": [
    {
     "data": {
      "text/plain": [
       "(801, 2)"
      ]
     },
     "execution_count": 5,
     "metadata": {},
     "output_type": "execute_result"
    }
   ],
   "source": [
    "data2.shape"
   ]
  },
  {
   "cell_type": "code",
   "execution_count": 6,
   "metadata": {},
   "outputs": [
    {
     "data": {
      "text/plain": [
       "ProdCum      0\n",
       "ProdDaily    1\n",
       "dtype: int64"
      ]
     },
     "execution_count": 6,
     "metadata": {},
     "output_type": "execute_result"
    }
   ],
   "source": [
    "data2.isnull().sum()"
   ]
  },
  {
   "cell_type": "code",
   "execution_count": 7,
   "metadata": {},
   "outputs": [
    {
     "name": "stdout",
     "output_type": "stream",
     "text": [
      "<class 'pandas.core.frame.DataFrame'>\n",
      "DatetimeIndex: 801 entries, 2018-02-02 to 2020-04-12\n",
      "Data columns (total 2 columns):\n",
      " #   Column     Non-Null Count  Dtype  \n",
      "---  ------     --------------  -----  \n",
      " 0   ProdCum    801 non-null    int64  \n",
      " 1   ProdDaily  800 non-null    float64\n",
      "dtypes: float64(1), int64(1)\n",
      "memory usage: 18.8 KB\n"
     ]
    }
   ],
   "source": [
    "data2.info()"
   ]
  },
  {
   "cell_type": "code",
   "execution_count": 8,
   "metadata": {},
   "outputs": [
    {
     "data": {
      "image/png": "[encoded data removed]",
      "text/plain": [
       "<Figure size 432x288 with 2 Axes>"
      ]
     },
     "metadata": {
      "needs_background": "light"
     },
     "output_type": "display_data"
    }
   ],
   "source": [
    "_ =data2.plot(subplots=True)"
   ]
  },
  {
   "cell_type": "code",
   "execution_count": 9,
   "metadata": {},
   "outputs": [],
   "source": [
    "#apply to datetime for date index column\n",
    "#data1.index=pd.to_datetime(data1.index, dayfirst=True, ) #utc=True\n",
    "#data1.info()\n",
    "\n",
    "#convert ProdCum obj to float\n",
    "#convert_dict={'ProdCum':float}\n",
    "#data2=data_raw5.astype(convert_dict)\n",
    "#data2.info()"
   ]
  },
  {
   "cell_type": "code",
   "execution_count": 10,
   "metadata": {},
   "outputs": [
    {
     "data": {
      "text/plain": [
       "ProdCum      0\n",
       "ProdDaily    9\n",
       "dtype: int64"
      ]
     },
     "execution_count": 10,
     "metadata": {},
     "output_type": "execute_result"
    }
   ],
   "source": [
    "#replace zeros with nana\n",
    "data3=data2.replace(0.0, np.nan)\n",
    "data3.isnull().sum()"
   ]
  },
  {
   "cell_type": "code",
   "execution_count": 11,
   "metadata": {},
   "outputs": [
    {
     "data": {
      "text/plain": [
       "ProdCum      0\n",
       "ProdDaily    0\n",
       "dtype: int64"
      ]
     },
     "execution_count": 11,
     "metadata": {},
     "output_type": "execute_result"
    }
   ],
   "source": [
    "#Filling missing data \n",
    "#forward and backward fill\n",
    "data4=data3.fillna(method='ffill')\n",
    "data5=data4.fillna(method='bfill')\n",
    "data5.isnull().sum()\n",
    "#Smooth with rolling mean\n",
    "#data3=data2.rolling(30).mean()\n",
    "#data3.isnull().sum()"
   ]
  },
  {
   "cell_type": "code",
   "execution_count": 12,
   "metadata": {},
   "outputs": [
    {
     "data": {
      "text/plain": [
       "(Timestamp('2018-02-02 00:00:00'), Timestamp('2020-04-12 00:00:00'))"
      ]
     },
     "execution_count": 12,
     "metadata": {},
     "output_type": "execute_result"
    }
   ],
   "source": [
    "data5.index.min(), data4.index.max()"
   ]
  },
  {
   "cell_type": "code",
   "execution_count": 13,
   "metadata": {},
   "outputs": [
    {
     "name": "stdout",
     "output_type": "stream",
     "text": [
      "<class 'pandas.core.frame.DataFrame'>\n",
      "DatetimeIndex: 801 entries, 2018-02-02 to 2020-04-12\n",
      "Data columns (total 2 columns):\n",
      " #   Column     Non-Null Count  Dtype  \n",
      "---  ------     --------------  -----  \n",
      " 0   ProdCum    801 non-null    int64  \n",
      " 1   ProdDaily  801 non-null    float64\n",
      "dtypes: float64(1), int64(1)\n",
      "memory usage: 18.8 KB\n"
     ]
    }
   ],
   "source": [
    "data5.info()"
   ]
  },
  {
   "cell_type": "code",
   "execution_count": 14,
   "metadata": {},
   "outputs": [
    {
     "data": {
      "image/png": "[encoded data removed]",
      "text/plain": [
       "<Figure size 720x288 with 1 Axes>"
      ]
     },
     "metadata": {
      "needs_background": "light"
     },
     "output_type": "display_data"
    }
   ],
   "source": [
    "plt.figure(figsize=(10, 4))\n",
    "plt.figure\n",
    "_=plt.plot(data5['ProdDaily'], 'ro')"
   ]
  },
  {
   "cell_type": "code",
   "execution_count": 15,
   "metadata": {},
   "outputs": [
    {
     "data": {
      "image/png": "[encoded data removed]",
      "text/plain": [
       "<Figure size 432x288 with 1 Axes>"
      ]
     },
     "metadata": {
      "needs_background": "light"
     },
     "output_type": "display_data"
    }
   ],
   "source": [
    "data_w=data5.resample('W').mean()\n",
    "plt.figure\n",
    "_=plt.plot(data_w['ProdDaily'], 'ro')"
   ]
  },
  {
   "cell_type": "markdown",
   "metadata": {},
   "source": [
    "Add additional data: Daily temperature, solar irradiation, humidity, wind"
   ]
  },
  {
   "cell_type": "markdown",
   "metadata": {},
   "source": [
    "Meteo Data Cleaning"
   ]
  },
  {
   "cell_type": "code",
   "execution_count": 16,
   "metadata": {},
   "outputs": [],
   "source": [
    "meteo2018=pd.read_csv('export-grenoble-isere2018_m.csv', parse_dates=True, index_col='DATE', dayfirst=True)\n",
    "meteo2019=pd.read_csv('export-grenoble-isere2019_m.csv', parse_dates=True, index_col='DATE', dayfirst=True)\n",
    "meteo2020=pd.read_csv('export-grenoble-isere2020_m.csv', parse_dates=True, index_col='DATE', dayfirst=True)"
   ]
  },
  {
   "cell_type": "code",
   "execution_count": 17,
   "metadata": {},
   "outputs": [],
   "source": [
    "#Date to Time\n",
    "meteo2018.index=pd.to_datetime(meteo2018.index, format='%Y/%m/%d')\n",
    "meteo2019.index=pd.to_datetime(meteo2019.index, format='%Y/%m/%d')\n",
    "meteo2020.index=pd.to_datetime(meteo2020.index, format='%Y/%m/%d')"
   ]
  },
  {
   "cell_type": "code",
   "execution_count": 18,
   "metadata": {},
   "outputs": [
    {
     "data": {
      "text/plain": [
       "(789, 21)"
      ]
     },
     "execution_count": 18,
     "metadata": {},
     "output_type": "execute_result"
    }
   ],
   "source": [
    "meteo=meteo2018.append(meteo2019).append(meteo2020)\n",
    "meteo['2018-02-02':'2020-03-31'].shape"
   ]
  },
  {
   "cell_type": "code",
   "execution_count": 19,
   "metadata": {},
   "outputs": [
    {
     "data": {
      "text/html": [
       "<div>\n",
       "<style scoped>\n",
       "    .dataframe tbody tr th:only-of-type {\n",
       "        vertical-align: middle;\n",
       "    }\n",
       "\n",
       "    .dataframe tbody tr th {\n",
       "        vertical-align: top;\n",
       "    }\n",
       "\n",
       "    .dataframe thead th {\n",
       "        text-align: right;\n",
       "    }\n",
       "</style>\n",
       "<table border=\"1\" class=\"dataframe\">\n",
       "  <thead>\n",
       "    <tr style=\"text-align: right;\">\n",
       "      <th></th>\n",
       "      <th>MAX_TEMPERATURE_C</th>\n",
       "      <th>MIN_TEMPERATURE_C</th>\n",
       "      <th>WINDSPEED_MAX_KMH</th>\n",
       "      <th>TEMPERATURE_MORNING_C</th>\n",
       "      <th>TEMPERATURE_NOON_C</th>\n",
       "      <th>TEMPERATURE_EVENING_C</th>\n",
       "      <th>PRECIP_TOTAL_DAY_MM</th>\n",
       "      <th>HUMIDITY_MAX_PERCENT</th>\n",
       "      <th>VISIBILITY_AVG_KM</th>\n",
       "      <th>PRESSURE_MAX_MB</th>\n",
       "      <th>CLOUDCOVER_AVG_PERCENT</th>\n",
       "      <th>HEATINDEX_MAX_C</th>\n",
       "      <th>DEWPOINT_MAX_C</th>\n",
       "      <th>WINDTEMP_MAX_C</th>\n",
       "      <th>WEATHER_CODE_MORNING</th>\n",
       "      <th>WEATHER_CODE_NOON</th>\n",
       "      <th>WEATHER_CODE_EVENING</th>\n",
       "      <th>TOTAL_SNOW_MM</th>\n",
       "      <th>UV_INDEX</th>\n",
       "      <th>SUNHOUR</th>\n",
       "    </tr>\n",
       "    <tr>\n",
       "      <th>DATE</th>\n",
       "      <th></th>\n",
       "      <th></th>\n",
       "      <th></th>\n",
       "      <th></th>\n",
       "      <th></th>\n",
       "      <th></th>\n",
       "      <th></th>\n",
       "      <th></th>\n",
       "      <th></th>\n",
       "      <th></th>\n",
       "      <th></th>\n",
       "      <th></th>\n",
       "      <th></th>\n",
       "      <th></th>\n",
       "      <th></th>\n",
       "      <th></th>\n",
       "      <th></th>\n",
       "      <th></th>\n",
       "      <th></th>\n",
       "      <th></th>\n",
       "    </tr>\n",
       "  </thead>\n",
       "  <tbody>\n",
       "    <tr>\n",
       "      <th>2018-01-01</th>\n",
       "      <td>2</td>\n",
       "      <td>0</td>\n",
       "      <td>14</td>\n",
       "      <td>0</td>\n",
       "      <td>2</td>\n",
       "      <td>0</td>\n",
       "      <td>12.9</td>\n",
       "      <td>93</td>\n",
       "      <td>7.250</td>\n",
       "      <td>1019</td>\n",
       "      <td>82.375</td>\n",
       "      <td>3</td>\n",
       "      <td>2</td>\n",
       "      <td>-4</td>\n",
       "      <td>119</td>\n",
       "      <td>116</td>\n",
       "      <td>122</td>\n",
       "      <td>0.0</td>\n",
       "      <td>1</td>\n",
       "      <td>5.1</td>\n",
       "    </tr>\n",
       "    <tr>\n",
       "      <th>2018-01-02</th>\n",
       "      <td>2</td>\n",
       "      <td>-1</td>\n",
       "      <td>7</td>\n",
       "      <td>-1</td>\n",
       "      <td>1</td>\n",
       "      <td>0</td>\n",
       "      <td>7.7</td>\n",
       "      <td>95</td>\n",
       "      <td>6.000</td>\n",
       "      <td>1023</td>\n",
       "      <td>92.250</td>\n",
       "      <td>2</td>\n",
       "      <td>1</td>\n",
       "      <td>-2</td>\n",
       "      <td>260</td>\n",
       "      <td>122</td>\n",
       "      <td>122</td>\n",
       "      <td>0.0</td>\n",
       "      <td>1</td>\n",
       "      <td>3.3</td>\n",
       "    </tr>\n",
       "    <tr>\n",
       "      <th>2018-01-03</th>\n",
       "      <td>5</td>\n",
       "      <td>2</td>\n",
       "      <td>14</td>\n",
       "      <td>5</td>\n",
       "      <td>5</td>\n",
       "      <td>2</td>\n",
       "      <td>11.2</td>\n",
       "      <td>99</td>\n",
       "      <td>3.750</td>\n",
       "      <td>1019</td>\n",
       "      <td>95.875</td>\n",
       "      <td>5</td>\n",
       "      <td>5</td>\n",
       "      <td>0</td>\n",
       "      <td>143</td>\n",
       "      <td>143</td>\n",
       "      <td>248</td>\n",
       "      <td>0.0</td>\n",
       "      <td>1</td>\n",
       "      <td>3.3</td>\n",
       "    </tr>\n",
       "    <tr>\n",
       "      <th>2018-01-04</th>\n",
       "      <td>5</td>\n",
       "      <td>4</td>\n",
       "      <td>7</td>\n",
       "      <td>3</td>\n",
       "      <td>5</td>\n",
       "      <td>4</td>\n",
       "      <td>19.9</td>\n",
       "      <td>98</td>\n",
       "      <td>2.375</td>\n",
       "      <td>1016</td>\n",
       "      <td>90.250</td>\n",
       "      <td>5</td>\n",
       "      <td>5</td>\n",
       "      <td>3</td>\n",
       "      <td>248</td>\n",
       "      <td>248</td>\n",
       "      <td>143</td>\n",
       "      <td>0.0</td>\n",
       "      <td>1</td>\n",
       "      <td>5.1</td>\n",
       "    </tr>\n",
       "    <tr>\n",
       "      <th>2018-01-05</th>\n",
       "      <td>7</td>\n",
       "      <td>3</td>\n",
       "      <td>9</td>\n",
       "      <td>4</td>\n",
       "      <td>7</td>\n",
       "      <td>3</td>\n",
       "      <td>1.4</td>\n",
       "      <td>96</td>\n",
       "      <td>7.875</td>\n",
       "      <td>1011</td>\n",
       "      <td>56.375</td>\n",
       "      <td>7</td>\n",
       "      <td>6</td>\n",
       "      <td>1</td>\n",
       "      <td>119</td>\n",
       "      <td>116</td>\n",
       "      <td>116</td>\n",
       "      <td>0.0</td>\n",
       "      <td>1</td>\n",
       "      <td>8.7</td>\n",
       "    </tr>\n",
       "  </tbody>\n",
       "</table>\n",
       "</div>"
      ],
      "text/plain": [
       "            MAX_TEMPERATURE_C  MIN_TEMPERATURE_C  WINDSPEED_MAX_KMH  \\\n",
       "DATE                                                                  \n",
       "2018-01-01                  2                  0                 14   \n",
       "2018-01-02                  2                 -1                  7   \n",
       "2018-01-03                  5                  2                 14   \n",
       "2018-01-04                  5                  4                  7   \n",
       "2018-01-05                  7                  3                  9   \n",
       "\n",
       "            TEMPERATURE_MORNING_C  TEMPERATURE_NOON_C  TEMPERATURE_EVENING_C  \\\n",
       "DATE                                                                           \n",
       "2018-01-01                      0                   2                      0   \n",
       "2018-01-02                     -1                   1                      0   \n",
       "2018-01-03                      5                   5                      2   \n",
       "2018-01-04                      3                   5                      4   \n",
       "2018-01-05                      4                   7                      3   \n",
       "\n",
       "            PRECIP_TOTAL_DAY_MM  HUMIDITY_MAX_PERCENT  VISIBILITY_AVG_KM  \\\n",
       "DATE                                                                       \n",
       "2018-01-01                 12.9                    93              7.250   \n",
       "2018-01-02                  7.7                    95              6.000   \n",
       "2018-01-03                 11.2                    99              3.750   \n",
       "2018-01-04                 19.9                    98              2.375   \n",
       "2018-01-05                  1.4                    96              7.875   \n",
       "\n",
       "            PRESSURE_MAX_MB  CLOUDCOVER_AVG_PERCENT  HEATINDEX_MAX_C  \\\n",
       "DATE                                                                   \n",
       "2018-01-01             1019                  82.375                3   \n",
       "2018-01-02             1023                  92.250                2   \n",
       "2018-01-03             1019                  95.875                5   \n",
       "2018-01-04             1016                  90.250                5   \n",
       "2018-01-05             1011                  56.375                7   \n",
       "\n",
       "            DEWPOINT_MAX_C  WINDTEMP_MAX_C  WEATHER_CODE_MORNING  \\\n",
       "DATE                                                               \n",
       "2018-01-01               2              -4                   119   \n",
       "2018-01-02               1              -2                   260   \n",
       "2018-01-03               5               0                   143   \n",
       "2018-01-04               5               3                   248   \n",
       "2018-01-05               6               1                   119   \n",
       "\n",
       "            WEATHER_CODE_NOON  WEATHER_CODE_EVENING  TOTAL_SNOW_MM  UV_INDEX  \\\n",
       "DATE                                                                           \n",
       "2018-01-01                116                   122            0.0         1   \n",
       "2018-01-02                122                   122            0.0         1   \n",
       "2018-01-03                143                   248            0.0         1   \n",
       "2018-01-04                248                   143            0.0         1   \n",
       "2018-01-05                116                   116            0.0         1   \n",
       "\n",
       "            SUNHOUR  \n",
       "DATE                 \n",
       "2018-01-01      5.1  \n",
       "2018-01-02      3.3  \n",
       "2018-01-03      3.3  \n",
       "2018-01-04      5.1  \n",
       "2018-01-05      8.7  "
      ]
     },
     "execution_count": 19,
     "metadata": {},
     "output_type": "execute_result"
    }
   ],
   "source": [
    "meteo=meteo.drop('OPINION', axis=1)\n",
    "meteo.head()"
   ]
  },
  {
   "cell_type": "code",
   "execution_count": 20,
   "metadata": {},
   "outputs": [],
   "source": [
    "#Define mean day temperature as (T_morning+T_noon)/2\n",
    "T_MEAN=(meteo['TEMPERATURE_MORNING_C'] + meteo['TEMPERATURE_NOON_C'])/2\n",
    "meteo['T_MEAN']=T_MEAN"
   ]
  },
  {
   "cell_type": "code",
   "execution_count": 21,
   "metadata": {},
   "outputs": [
    {
     "data": {
      "text/html": [
       "<div>\n",
       "<style scoped>\n",
       "    .dataframe tbody tr th:only-of-type {\n",
       "        vertical-align: middle;\n",
       "    }\n",
       "\n",
       "    .dataframe tbody tr th {\n",
       "        vertical-align: top;\n",
       "    }\n",
       "\n",
       "    .dataframe thead th {\n",
       "        text-align: right;\n",
       "    }\n",
       "</style>\n",
       "<table border=\"1\" class=\"dataframe\">\n",
       "  <thead>\n",
       "    <tr style=\"text-align: right;\">\n",
       "      <th></th>\n",
       "      <th>WINDSPEED_MAX_KMH</th>\n",
       "      <th>PRECIP_TOTAL_DAY_MM</th>\n",
       "      <th>HUMIDITY_MAX_PERCENT</th>\n",
       "      <th>PRESSURE_MAX_MB</th>\n",
       "      <th>CLOUDCOVER_AVG_PERCENT</th>\n",
       "      <th>HEATINDEX_MAX_C</th>\n",
       "      <th>DEWPOINT_MAX_C</th>\n",
       "      <th>WINDTEMP_MAX_C</th>\n",
       "      <th>TOTAL_SNOW_MM</th>\n",
       "      <th>UV_INDEX</th>\n",
       "      <th>SUNHOUR</th>\n",
       "      <th>T_MEAN</th>\n",
       "    </tr>\n",
       "    <tr>\n",
       "      <th>DATE</th>\n",
       "      <th></th>\n",
       "      <th></th>\n",
       "      <th></th>\n",
       "      <th></th>\n",
       "      <th></th>\n",
       "      <th></th>\n",
       "      <th></th>\n",
       "      <th></th>\n",
       "      <th></th>\n",
       "      <th></th>\n",
       "      <th></th>\n",
       "      <th></th>\n",
       "    </tr>\n",
       "  </thead>\n",
       "  <tbody>\n",
       "    <tr>\n",
       "      <th>2018-01-01</th>\n",
       "      <td>14</td>\n",
       "      <td>12.9</td>\n",
       "      <td>93</td>\n",
       "      <td>1019</td>\n",
       "      <td>82.375</td>\n",
       "      <td>3</td>\n",
       "      <td>2</td>\n",
       "      <td>-4</td>\n",
       "      <td>0.0</td>\n",
       "      <td>1</td>\n",
       "      <td>5.1</td>\n",
       "      <td>1.0</td>\n",
       "    </tr>\n",
       "    <tr>\n",
       "      <th>2018-01-02</th>\n",
       "      <td>7</td>\n",
       "      <td>7.7</td>\n",
       "      <td>95</td>\n",
       "      <td>1023</td>\n",
       "      <td>92.250</td>\n",
       "      <td>2</td>\n",
       "      <td>1</td>\n",
       "      <td>-2</td>\n",
       "      <td>0.0</td>\n",
       "      <td>1</td>\n",
       "      <td>3.3</td>\n",
       "      <td>0.0</td>\n",
       "    </tr>\n",
       "    <tr>\n",
       "      <th>2018-01-03</th>\n",
       "      <td>14</td>\n",
       "      <td>11.2</td>\n",
       "      <td>99</td>\n",
       "      <td>1019</td>\n",
       "      <td>95.875</td>\n",
       "      <td>5</td>\n",
       "      <td>5</td>\n",
       "      <td>0</td>\n",
       "      <td>0.0</td>\n",
       "      <td>1</td>\n",
       "      <td>3.3</td>\n",
       "      <td>5.0</td>\n",
       "    </tr>\n",
       "    <tr>\n",
       "      <th>2018-01-04</th>\n",
       "      <td>7</td>\n",
       "      <td>19.9</td>\n",
       "      <td>98</td>\n",
       "      <td>1016</td>\n",
       "      <td>90.250</td>\n",
       "      <td>5</td>\n",
       "      <td>5</td>\n",
       "      <td>3</td>\n",
       "      <td>0.0</td>\n",
       "      <td>1</td>\n",
       "      <td>5.1</td>\n",
       "      <td>4.0</td>\n",
       "    </tr>\n",
       "    <tr>\n",
       "      <th>2018-01-05</th>\n",
       "      <td>9</td>\n",
       "      <td>1.4</td>\n",
       "      <td>96</td>\n",
       "      <td>1011</td>\n",
       "      <td>56.375</td>\n",
       "      <td>7</td>\n",
       "      <td>6</td>\n",
       "      <td>1</td>\n",
       "      <td>0.0</td>\n",
       "      <td>1</td>\n",
       "      <td>8.7</td>\n",
       "      <td>5.5</td>\n",
       "    </tr>\n",
       "  </tbody>\n",
       "</table>\n",
       "</div>"
      ],
      "text/plain": [
       "            WINDSPEED_MAX_KMH  PRECIP_TOTAL_DAY_MM  HUMIDITY_MAX_PERCENT  \\\n",
       "DATE                                                                       \n",
       "2018-01-01                 14                 12.9                    93   \n",
       "2018-01-02                  7                  7.7                    95   \n",
       "2018-01-03                 14                 11.2                    99   \n",
       "2018-01-04                  7                 19.9                    98   \n",
       "2018-01-05                  9                  1.4                    96   \n",
       "\n",
       "            PRESSURE_MAX_MB  CLOUDCOVER_AVG_PERCENT  HEATINDEX_MAX_C  \\\n",
       "DATE                                                                   \n",
       "2018-01-01             1019                  82.375                3   \n",
       "2018-01-02             1023                  92.250                2   \n",
       "2018-01-03             1019                  95.875                5   \n",
       "2018-01-04             1016                  90.250                5   \n",
       "2018-01-05             1011                  56.375                7   \n",
       "\n",
       "            DEWPOINT_MAX_C  WINDTEMP_MAX_C  TOTAL_SNOW_MM  UV_INDEX  SUNHOUR  \\\n",
       "DATE                                                                           \n",
       "2018-01-01               2              -4            0.0         1      5.1   \n",
       "2018-01-02               1              -2            0.0         1      3.3   \n",
       "2018-01-03               5               0            0.0         1      3.3   \n",
       "2018-01-04               5               3            0.0         1      5.1   \n",
       "2018-01-05               6               1            0.0         1      8.7   \n",
       "\n",
       "            T_MEAN  \n",
       "DATE                \n",
       "2018-01-01     1.0  \n",
       "2018-01-02     0.0  \n",
       "2018-01-03     5.0  \n",
       "2018-01-04     4.0  \n",
       "2018-01-05     5.5  "
      ]
     },
     "execution_count": 21,
     "metadata": {},
     "output_type": "execute_result"
    }
   ],
   "source": [
    "#drop useless columns\n",
    "meteo1=meteo.drop(['MAX_TEMPERATURE_C','MIN_TEMPERATURE_C', 'TEMPERATURE_MORNING_C', 'TEMPERATURE_NOON_C', 'TEMPERATURE_EVENING_C', 'VISIBILITY_AVG_KM', 'WEATHER_CODE_MORNING', 'WEATHER_CODE_NOON','WEATHER_CODE_EVENING'], axis=1)\n",
    "meteo1.head()"
   ]
  },
  {
   "cell_type": "code",
   "execution_count": 22,
   "metadata": {},
   "outputs": [
    {
     "data": {
      "text/html": [
       "<div>\n",
       "<style scoped>\n",
       "    .dataframe tbody tr th:only-of-type {\n",
       "        vertical-align: middle;\n",
       "    }\n",
       "\n",
       "    .dataframe tbody tr th {\n",
       "        vertical-align: top;\n",
       "    }\n",
       "\n",
       "    .dataframe thead th {\n",
       "        text-align: right;\n",
       "    }\n",
       "</style>\n",
       "<table border=\"1\" class=\"dataframe\">\n",
       "  <thead>\n",
       "    <tr style=\"text-align: right;\">\n",
       "      <th></th>\n",
       "      <th>MWS</th>\n",
       "      <th>PRECIP</th>\n",
       "      <th>HUM</th>\n",
       "      <th>PRES</th>\n",
       "      <th>CLCOVER</th>\n",
       "      <th>HI</th>\n",
       "      <th>DEWP</th>\n",
       "      <th>WINDT</th>\n",
       "      <th>SNOW</th>\n",
       "      <th>UVIND</th>\n",
       "      <th>SUNH</th>\n",
       "      <th>T_MEAN</th>\n",
       "    </tr>\n",
       "    <tr>\n",
       "      <th>DATE</th>\n",
       "      <th></th>\n",
       "      <th></th>\n",
       "      <th></th>\n",
       "      <th></th>\n",
       "      <th></th>\n",
       "      <th></th>\n",
       "      <th></th>\n",
       "      <th></th>\n",
       "      <th></th>\n",
       "      <th></th>\n",
       "      <th></th>\n",
       "      <th></th>\n",
       "    </tr>\n",
       "  </thead>\n",
       "  <tbody>\n",
       "    <tr>\n",
       "      <th>2018-01-01</th>\n",
       "      <td>14</td>\n",
       "      <td>12.9</td>\n",
       "      <td>93</td>\n",
       "      <td>1019</td>\n",
       "      <td>82.375</td>\n",
       "      <td>3</td>\n",
       "      <td>2</td>\n",
       "      <td>-4</td>\n",
       "      <td>0.0</td>\n",
       "      <td>1</td>\n",
       "      <td>5.1</td>\n",
       "      <td>1.0</td>\n",
       "    </tr>\n",
       "    <tr>\n",
       "      <th>2018-01-02</th>\n",
       "      <td>7</td>\n",
       "      <td>7.7</td>\n",
       "      <td>95</td>\n",
       "      <td>1023</td>\n",
       "      <td>92.250</td>\n",
       "      <td>2</td>\n",
       "      <td>1</td>\n",
       "      <td>-2</td>\n",
       "      <td>0.0</td>\n",
       "      <td>1</td>\n",
       "      <td>3.3</td>\n",
       "      <td>0.0</td>\n",
       "    </tr>\n",
       "  </tbody>\n",
       "</table>\n",
       "</div>"
      ],
      "text/plain": [
       "            MWS  PRECIP  HUM  PRES  CLCOVER  HI  DEWP  WINDT  SNOW  UVIND  \\\n",
       "DATE                                                                        \n",
       "2018-01-01   14    12.9   93  1019   82.375   3     2     -4   0.0      1   \n",
       "2018-01-02    7     7.7   95  1023   92.250   2     1     -2   0.0      1   \n",
       "\n",
       "            SUNH  T_MEAN  \n",
       "DATE                      \n",
       "2018-01-01   5.1     1.0  \n",
       "2018-01-02   3.3     0.0  "
      ]
     },
     "execution_count": 22,
     "metadata": {},
     "output_type": "execute_result"
    }
   ],
   "source": [
    "meteo2=meteo1.rename(columns={'WINDSPEED_MAX_KMH':'MWS', 'PRECIP_TOTAL_DAY_MM': 'PRECIP', 'HUMIDITY_MAX_PERCENT': 'HUM', 'PRESSURE_MAX_MB': 'PRES', 'CLOUDCOVER_AVG_PERCENT':'CLCOVER', 'HEATINDEX_MAX_C':'HI', 'DEWPOINT_MAX_C':'DEWP', 'WINDTEMP_MAX_C':'WINDT', 'TOTAL_SNOW_MM':'SNOW', 'UV_INDEX': 'UVIND', 'SUNHOUR':'SUNH'})\n",
    "meteo2.head(2)"
   ]
  },
  {
   "cell_type": "markdown",
   "metadata": {},
   "source": [
    "Combine meteo and production data in one dataframe"
   ]
  },
  {
   "cell_type": "code",
   "execution_count": 23,
   "metadata": {},
   "outputs": [
    {
     "name": "stdout",
     "output_type": "stream",
     "text": [
      "begin date: 2018-02-02 00:00:00\n",
      "end date: 2020-03-31 00:00:00\n"
     ]
    }
   ],
   "source": [
    "#define overlapping range of production dataset (data5) and meteo2 dataset\n",
    "begin_date=max(data5.index.min(), meteo2.index.min())\n",
    "end_date=min(data5.index.max(), meteo2.index.max())\n",
    "print('begin date: {}'.format(begin_date))\n",
    "print('end date: {}'.format(end_date))"
   ]
  },
  {
   "cell_type": "code",
   "execution_count": 24,
   "metadata": {},
   "outputs": [
    {
     "data": {
      "text/html": [
       "<div>\n",
       "<style scoped>\n",
       "    .dataframe tbody tr th:only-of-type {\n",
       "        vertical-align: middle;\n",
       "    }\n",
       "\n",
       "    .dataframe tbody tr th {\n",
       "        vertical-align: top;\n",
       "    }\n",
       "\n",
       "    .dataframe thead th {\n",
       "        text-align: right;\n",
       "    }\n",
       "</style>\n",
       "<table border=\"1\" class=\"dataframe\">\n",
       "  <thead>\n",
       "    <tr style=\"text-align: right;\">\n",
       "      <th></th>\n",
       "      <th>PROD_C</th>\n",
       "      <th>PROD_D</th>\n",
       "      <th>MWS</th>\n",
       "      <th>PRECIP</th>\n",
       "      <th>HUM</th>\n",
       "      <th>PRES</th>\n",
       "      <th>CLCOVER</th>\n",
       "      <th>HI</th>\n",
       "      <th>DEWP</th>\n",
       "      <th>WINDT</th>\n",
       "      <th>SNOW</th>\n",
       "      <th>UVIND</th>\n",
       "      <th>SUNH</th>\n",
       "      <th>T_MEAN</th>\n",
       "    </tr>\n",
       "    <tr>\n",
       "      <th>Date</th>\n",
       "      <th></th>\n",
       "      <th></th>\n",
       "      <th></th>\n",
       "      <th></th>\n",
       "      <th></th>\n",
       "      <th></th>\n",
       "      <th></th>\n",
       "      <th></th>\n",
       "      <th></th>\n",
       "      <th></th>\n",
       "      <th></th>\n",
       "      <th></th>\n",
       "      <th></th>\n",
       "      <th></th>\n",
       "    </tr>\n",
       "  </thead>\n",
       "  <tbody>\n",
       "    <tr>\n",
       "      <th>2018-02-02</th>\n",
       "      <td>1227576</td>\n",
       "      <td>27247.0</td>\n",
       "      <td>14</td>\n",
       "      <td>0.7</td>\n",
       "      <td>93</td>\n",
       "      <td>1010</td>\n",
       "      <td>46.75</td>\n",
       "      <td>0</td>\n",
       "      <td>0</td>\n",
       "      <td>-8</td>\n",
       "      <td>0.5</td>\n",
       "      <td>2</td>\n",
       "      <td>9.9</td>\n",
       "      <td>-3.5</td>\n",
       "    </tr>\n",
       "    <tr>\n",
       "      <th>2018-02-03</th>\n",
       "      <td>1254823</td>\n",
       "      <td>27247.0</td>\n",
       "      <td>11</td>\n",
       "      <td>1.2</td>\n",
       "      <td>91</td>\n",
       "      <td>1010</td>\n",
       "      <td>59.25</td>\n",
       "      <td>0</td>\n",
       "      <td>0</td>\n",
       "      <td>-8</td>\n",
       "      <td>1.0</td>\n",
       "      <td>1</td>\n",
       "      <td>9.9</td>\n",
       "      <td>-4.0</td>\n",
       "    </tr>\n",
       "  </tbody>\n",
       "</table>\n",
       "</div>"
      ],
      "text/plain": [
       "             PROD_C   PROD_D  MWS  PRECIP  HUM  PRES  CLCOVER  HI  DEWP  \\\n",
       "Date                                                                      \n",
       "2018-02-02  1227576  27247.0   14     0.7   93  1010    46.75   0     0   \n",
       "2018-02-03  1254823  27247.0   11     1.2   91  1010    59.25   0     0   \n",
       "\n",
       "            WINDT  SNOW  UVIND  SUNH  T_MEAN  \n",
       "Date                                          \n",
       "2018-02-02     -8   0.5      2   9.9    -3.5  \n",
       "2018-02-03     -8   1.0      1   9.9    -4.0  "
      ]
     },
     "execution_count": 24,
     "metadata": {},
     "output_type": "execute_result"
    }
   ],
   "source": [
    "prod_data=data5.loc['2018-02-02': '2020-03-31']\n",
    "meteo_data=meteo2.loc['2018-02-02': '2020-03-31']\n",
    "df=prod_data.join(meteo_data)\n",
    "df=df.rename(columns={'ProdCum': 'PROD_C', 'ProdDaily':'PROD_D'})\n",
    "df.head(2)"
   ]
  },
  {
   "cell_type": "code",
   "execution_count": 36,
   "metadata": {},
   "outputs": [],
   "source": [
    "#export Datafile\n",
    "df.to_csv(\"MontaProdMeteo.csv\")"
   ]
  }
 ],
 "metadata": {
  "kernelspec": {
   "display_name": "Python 3",
   "language": "python",
   "name": "python3"
  },
  "language_info": {
   "codemirror_mode": {
    "name": "ipython",
    "version": 3
   },
   "file_extension": ".py",
   "mimetype": "text/x-python",
   "name": "python",
   "nbconvert_exporter": "python",
   "pygments_lexer": "ipython3",
   "version": "3.8.0"
  }
 },
 "nbformat": 4,
 "nbformat_minor": 4
}
